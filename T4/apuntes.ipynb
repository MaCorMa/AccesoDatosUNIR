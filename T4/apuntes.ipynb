{
 "cells": [
  {
   "cell_type": "markdown",
   "metadata": {},
   "source": [
    "obtener nodo\n",
    "\n",
    "/nombre/nombre_secundario"
   ]
  },
  {
   "cell_type": "markdown",
   "metadata": {},
   "source": [
    "obtener valor en texto de un nodo\n",
    "\n",
    "/pelicula/pelicula/sinopsis/text()"
   ]
  },
  {
   "cell_type": "markdown",
   "metadata": {},
   "source": [
    "obtener el valor del atributo de un nodo\n",
    "\n",
    "/pelicula/pelicula/@director"
   ]
  },
  {
   "cell_type": "markdown",
   "metadata": {},
   "source": [
    "filtrado por atributo\n",
    "\n",
    "/peliculas/pelicula[@titulo=\"Pulp Fiction\"] -> filtro por atributo\n",
    "\n",
    "/peliculas/pelicula/personajes/personaje[text()=\"Vincent Vega\"] -> filtro por valor del nodo\n",
    "\n",
    "\n",
    "ex:Todas las peliculas donde sale el personaje Aldo Rain\n",
    "\n",
    "/peliculas/pelicula[personajes/personaje[text()=\"Lt. Aldo Raine\"]]"
   ]
  },
  {
   "cell_type": "markdown",
   "metadata": {},
   "source": [
    "peliculas con aldo raine o brad pitt\n",
    "\n",
    "/peliculas/pelicula[personajes/personaje[text()=\"Lt. Aldo Raine\" or @actor=\"Brad Pitt\"]]\n",
    "\n",
    "Actores en películas con aldo raine or brad pitt\n",
    "/peliculas/pelicula[personajes/personaje[text()=\"Lt. Aldo Raine\" or @actor=\"Brad Pitt\"]]/personajes/personaje/@actor\n",
    "\n",
    "titulo de películas con puntuación mayor a 8.8\n",
    "/peliculas/pelicula[@puntuacion > 8.8]/@titulo\n",
    "\n",
    "nombre de sus personajes\n",
    "/peliculas/pelicula[@puntuacion > 8.8]/personajes/personaje/text()\n"
   ]
  },
  {
   "cell_type": "markdown",
   "metadata": {},
   "source": [
    "todas las peliculas que tienen mas de 8 de puntuacion y sale a leonardo di caprio\n",
    "\n",
    "/peliculas/pelicula[@puntuacion > 8 and personajes[personaje[@actor=\"Leonardo DiCaprio\"]]]"
   ]
  },
  {
   "cell_type": "markdown",
   "metadata": {},
   "source": []
  },
  {
   "cell_type": "markdown",
   "metadata": {},
   "source": []
  }
 ],
 "metadata": {
  "language_info": {
   "name": "python"
  }
 },
 "nbformat": 4,
 "nbformat_minor": 2
}
